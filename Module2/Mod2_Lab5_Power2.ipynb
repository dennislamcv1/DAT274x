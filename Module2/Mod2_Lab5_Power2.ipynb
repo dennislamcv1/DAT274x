{
 "cells": [
  {
   "cell_type": "markdown",
   "metadata": {},
   "source": [
    "Module 2, Lab 5 - Power 2 - Sample Size Planning Illustration\n",
    "=============================================================\n",
    "\n",
    "In this lab, we will practice using the `pwr` package in R for\n",
    "determining the minimum necessary sample size for a two-sample *t*-test\n",
    "design. I illustrate a real-life iterative project planning sequence so\n",
    "you can see how power planning can be integrated into a data-science\n",
    "research project.\n",
    "\n",
    "First, we load the `pwr` package:"
   ]
  },
  {
   "cell_type": "code",
   "execution_count": null,
   "metadata": {},
   "outputs": [],
   "source": [
    "install.packages('pwr')\n",
    "library(pwr)"
   ]
  },
  {
   "cell_type": "markdown",
   "metadata": {},
   "source": [
    "You wish to compare groups at two different locations in your\n",
    "organization to see if either group is more satisfied with their working\n",
    "conditions. You will be comparing the groups with a *t*-test, and you\n",
    "care deeply about estimating the effect, even if it is small. Data will\n",
    "be challenging to get, however, as you will have to get managers to ask\n",
    "employees to return surveys. You need to determine the minimum necessary\n",
    "sample size to get adequate power.\n",
    "\n",
    "Usually, we start with our dream scenario. Let's ask for 90% power to\n",
    "detect a very small effect size (*d* = .10). What sample size would be\n",
    "required?"
   ]
  },
  {
   "cell_type": "code",
   "execution_count": null,
   "metadata": {},
   "outputs": [],
   "source": [
    "pwr.t.test(d=.10, power=.9)"
   ]
  },
  {
   "cell_type": "markdown",
   "metadata": {},
   "source": [
    "We see here that we need 2103 people per group, or 4206 people in total.\n",
    "Knowing the size of the organization, you know anything that size is\n",
    "likely out of the question. You might be able to get away, you think\n",
    "with collecting data from 500 participants without imposing too much on\n",
    "team supervisors. So, you try again, this time with a more realistic 80%\n",
    "power and a mid-range-small effect of *d* = .25."
   ]
  },
  {
   "cell_type": "code",
   "execution_count": null,
   "metadata": {},
   "outputs": [],
   "source": [
    "pwr.t.test(power=.80, d=.25)"
   ]
  },
  {
   "cell_type": "markdown",
   "metadata": {},
   "source": [
    "By pure happenstance, you get 253 per group (always round up to ensure\n",
    "sample size is adequate). You take this proposal to collect data from\n",
    "500 employees to your supervisor; after some discussion, you are told\n",
    "that they will try to push for a large sample (on the basis of your\n",
    "request), but they've decided 400 is the maximum they are likely to be\n",
    "able to collect.\n",
    "\n",
    "Now, you change your strategy. 400 is close to 500, so it's likely to be\n",
    "similar. You now leave out effect size and input *n* = 200 (since it's\n",
    "per group) and a request for 80% power:"
   ]
  },
  {
   "cell_type": "code",
   "execution_count": null,
   "metadata": {},
   "outputs": [],
   "source": [
    "pwr.t.test(n=200, power=.80)"
   ]
  },
  {
   "cell_type": "markdown",
   "metadata": {},
   "source": [
    "You will now have 80% power to detect effects as small as *d* = .28,\n",
    "which is still a mid-range small effect.\n",
    "\n",
    "Before you tell everyone that will still work with this suggested sample\n",
    "size, you run a loop to estimate power at that sample size for various\n",
    "effect sizes (e.g., power would suffer if *d* were lower, but would it\n",
    "be *that* terrible if *d* were, say, .10?)"
   ]
  },
  {
   "cell_type": "code",
   "execution_count": null,
   "metadata": {},
   "outputs": [],
   "source": [
    "#create empty container to store  power results\n",
    "power <- NULL\n",
    "\n",
    "#create sequence of d values to test, from .05 to .5 in increments of .05\n",
    "d.values <- seq(from=.05, to = .5, by=.05)\n",
    "\n",
    "# There are 10 d values, so we will need to run a loop 15 times\n",
    "# For each d value, run the power function and save the power resul\n",
    "for (i in 1:10){\n",
    "  power[i] <-  pwr.t.test(200, d=d.values[i])$power\n",
    "}\n",
    "\n",
    "#bind results together into comuns to make a table\n",
    "cbind(d.values, power)"
   ]
  },
  {
   "cell_type": "markdown",
   "metadata": {},
   "source": [
    "Looking at this chart, we see that power really starts to drop off\n",
    "around *d* = .20, hitting 51%. You discuss this with your team; they\n",
    "conclude they are ok with a 50% chance of declaring \"no difference\" if\n",
    "effect is *that* small. The study is run with 400 people and an\n",
    "informative result is produced.\n",
    "\n",
    "Epilogue\n",
    "========\n",
    "\n",
    "At the very end, you hear that the original proposal had been to collect\n",
    "40 responses, 20 from each site. You smile to yourself, considering how\n",
    "your power analysis likely saved the project. You run a power analysis\n",
    "just to see how bad the situation would be:"
   ]
  },
  {
   "cell_type": "code",
   "execution_count": null,
   "metadata": {},
   "outputs": [],
   "source": [
    "pwr.t.test(n=20, power=.80)"
   ]
  },
  {
   "cell_type": "markdown",
   "metadata": {},
   "source": [
    "You see here that the smallest effect size for which you would have good\n",
    "power is well into the 'large' range. What if the effects were small?\n",
    "What are the odds the study would even be able to pick them up? You\n",
    "consider the scenario of *d* = .25:"
   ]
  },
  {
   "cell_type": "code",
   "execution_count": null,
   "metadata": {},
   "outputs": [],
   "source": [
    "pwr.t.test(n=20, d=.25)"
   ]
  },
  {
   "cell_type": "markdown",
   "metadata": {},
   "source": [
    "This study would have 12% power. Yikes. It's a good thing you performed\n",
    "a power analysis."
   ]
  }
 ],
 "metadata": {
  "kernelspec": {
   "display_name": "R",
   "language": "R",
   "name": "ir"
  },
  "language_info": {
   "codemirror_mode": "r",
   "file_extension": ".r",
   "mimetype": "text/x-r-source",
   "name": "R",
   "pygments_lexer": "r",
   "version": "3.5.0"
  }
 },
 "nbformat": 4,
 "nbformat_minor": 2
}
