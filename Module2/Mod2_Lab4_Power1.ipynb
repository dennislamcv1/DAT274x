{
 "cells": [
  {
   "cell_type": "markdown",
   "metadata": {},
   "source": [
    "Module 2, Lab 4 - Power 1\n",
    "=========================\n",
    "\n",
    "In this lab, we explore the concept of statistical power. Recall that\n",
    "power is the ability to reject the null hypothesis. Greater power means\n",
    "greater ability to reject the null hypothesis. Of course, if you cannot\n",
    "reject the null hypothesis, you cannot rule out random chance as an\n",
    "explanation for your findings. Therefore, the ability to reject the null\n",
    "hypothesis should be considered a bare minimum for any research or data\n",
    "science finding that relies on samples to estimate populations. In fact,\n",
    "as we saw in the confidence interval lab, it's often desirable to be\n",
    "even more precise than rejecting the null hypothesis (i.e., more precise\n",
    "than \"effect is not zero\"). Still, good power is a bare minimum\n",
    "requirement.\n",
    "\n",
    "Note: you will need the `effsize` package for this lab to measure effect\n",
    "sizes; you will also need the `pwr` package. We will do some data\n",
    "visualization with `ggplot2` as well:"
   ]
  },
  {
   "cell_type": "code",
   "execution_count": null,
   "metadata": {},
   "outputs": [],
   "source": [
    "### LOAD PACKAGES ####\n",
    "install.packages('pwr')\n",
    "install.packages('effsize')\n",
    "library(pwr)\n",
    "library(effsize)\n",
    "library(ggplot2)"
   ]
  },
  {
   "cell_type": "markdown",
   "metadata": {},
   "source": [
    "Note that for this lab you need to be familiar with the effect size\n",
    "statistic, Cohen's *d*, discussed in the online lesson. I will assume\n",
    "you have watched this and are familiar with how *p*-values work to\n",
    "reject the null hypothesis. If you need to refresh these concepts, do so\n",
    "before completing this lab. The standard guidelines for Cohen's *d* are:\n",
    "\n",
    "\n",
    "\n",
    "|        | d Value          | Meaning  |\n",
    "| ------------- |:-------------:|-----------:|\n",
    "| 1.  | 0 - 0.2 | Negligible |\n",
    "| 2.  | 0.2 - 0.5     |  Small |\n",
    "| 3. | 0.5 - 0.8      |  Medium |\n",
    "| 4. | 0.80 +      |  Large |"
   ]
  },
  {
   "cell_type": "markdown",
   "metadata": {},
   "source": [
    "Power Overview\n",
    "==============\n",
    "\n",
    "Technically defined, power is the proportion of the time in which you\n",
    "would achieve *p* &lt; .05 for a given population effect size. Power is\n",
    "relevant *only* when the null hypothesis is false. Assuming that the\n",
    "null is false, what is the likelihood that your study will actually\n",
    "detect the effect that is truly present? For example, a study that has\n",
    "only 20% power has only a 20% chance to actually detect the effect that\n",
    "is present (i.e., achieve statistical significance, *p* &lt; .05).\n",
    "Clearly, you do not want your study to be set up to fail. You want good\n",
    "power...usually the recommendation is .80 or higher.\n",
    "\n",
    "Power is **highly dependnet on sample size**.\n",
    "\n",
    "For example, imagine that, in the population, the size of the difference\n",
    "between two groups (e.g., \"intervention group to increase productivity\"\n",
    "vs. \"business as usual\" group) was *d* = .4. A study with *n*= 40 people\n",
    "per group would only have 42% power, i.e., be able to reject the null\n",
    "hypothesis 42% of the time.\n",
    "\n",
    "How do I know that? I used a power calculator.\n",
    "\n",
    "This can be easily calculated using the `pwr.t.test()` command in the\n",
    "`pwr` package in R. This package contains a family of related commands\n",
    "for many different kinds of analyses."
   ]
  },
  {
   "cell_type": "code",
   "execution_count": null,
   "metadata": {},
   "outputs": [],
   "source": [
    "pwr.t.test(n=40, d=.4)"
   ]
  },
  {
   "cell_type": "markdown",
   "metadata": {},
   "source": [
    "We see here that the power is given as `power = 0.4235212`.\n",
    "\n",
    "Power is a function of both the effect size and the sample size. Imagine\n",
    "that we had a larger sample, say *n* = 100 people per group. Would our\n",
    "power improve?"
   ]
  },
  {
   "cell_type": "code",
   "execution_count": null,
   "metadata": {},
   "outputs": [],
   "source": [
    "pwr.t.test(n=100, d=.4)"
   ]
  },
  {
   "cell_type": "markdown",
   "metadata": {},
   "source": [
    "Indeed, now we have reached 80% power, the standard guideline for\n",
    "acceptable power.\n",
    "\n",
    "We could see what happens if we use larger groups, say 150 per group:"
   ]
  },
  {
   "cell_type": "code",
   "execution_count": null,
   "metadata": {},
   "outputs": [],
   "source": [
    "pwr.t.test(n=150, d=.4)"
   ]
  },
  {
   "cell_type": "markdown",
   "metadata": {},
   "source": [
    "Now we have 93% power. You always want high power. If power is low, you\n",
    "risk missing real effects, spending time and energy on a study coming up\n",
    "empty even when there is something to be found.\n",
    "\n",
    "To reiterate, in power calculations, there are always three things that\n",
    "interrelate:\n",
    "\n",
    "1.  Power\n",
    "2.  Sample size (*n* per group in group-comparison studies)\n",
    "3.  Effect size\n",
    "\n",
    "In most power calculators, you enter any two of those three, and the\n",
    "third can be determined for you.\n",
    "\n",
    "For example, say we are planning a study and want to know how many\n",
    "responses are required. We can specify the desired power (leave `n`\n",
    "blank) and the command will find the required sample size:"
   ]
  },
  {
   "cell_type": "code",
   "execution_count": null,
   "metadata": {},
   "outputs": [],
   "source": [
    "pwr.t.test(power=.80, d=.4)"
   ]
  },
  {
   "cell_type": "markdown",
   "metadata": {},
   "source": [
    "We see here that this study would require 100 people per group (best to\n",
    "round up).\n",
    "\n",
    "However, the relationship between sample size and power is not fixed. In\n",
    "fact, power also goes down as effect size goes down. This should make\n",
    "sense: it is much harder to detect a very tiny effect than it is a very\n",
    "large effect. Let's re-run the last command, asking how many people are\n",
    "needed for 80% power but now considering the situation where the\n",
    "population *d* is smaller, *d* = .20:"
   ]
  },
  {
   "cell_type": "code",
   "execution_count": null,
   "metadata": {},
   "outputs": [],
   "source": [
    "pwr.t.test(power=.80, d=.2)"
   ]
  },
  {
   "cell_type": "markdown",
   "metadata": {},
   "source": [
    "We see now that our required sample size has jumped to 394 per group, a\n",
    "much larger and more expensive study.\n",
    "\n",
    "So, as you plan studies, you need to tell a power calculator the desired\n",
    "power level (recommended: 80% or .80) *and* the population effect size.\n",
    "\n",
    "**However, you don't know the population effect size. If you did, you\n",
    "wouldn't be running a research study, would you?**\n",
    "\n",
    "Standard practice, therefore, is to input the smallest effect size you\n",
    "would care to be able to detect (called \"smallest effect size of\n",
    "interest, or SESOI).\n",
    "\n",
    "For example, perhaps your research question is *very important* and you\n",
    "want to be able to detect any effect, even if it is small. In that case,\n",
    "power the study as above with 394 people per group.\n",
    "\n",
    "Or, perhaps a small effect is unimportant to you; you care to know if an\n",
    "effect is present but really only if it's large (you're fine getting a\n",
    "null result if the effect is small; small effects are not important to\n",
    "you). In that case, you can use a more lenient criteria:"
   ]
  },
  {
   "cell_type": "code",
   "execution_count": null,
   "metadata": {},
   "outputs": [],
   "source": [
    "pwr.t.test(power=.80, d=.8)"
   ]
  },
  {
   "cell_type": "markdown",
   "metadata": {},
   "source": [
    "This example would let us have 80% power to detect a large effect with\n",
    "only 26 people per group. However, the high power is only present when\n",
    "the effect is that large. if the effect were smaller, your power would\n",
    "be worse and you would likely miss it. Let's take that same sample size\n",
    "and consider what would happen if your effects were smaller than *d* =\n",
    ".80. Try running the command for *n* = 26 and *d* = .30. What is the\n",
    "power?"
   ]
  },
  {
   "cell_type": "code",
   "execution_count": null,
   "metadata": {},
   "outputs": [],
   "source": [
    "pwr.t.test(n=26, d=.30)"
   ]
  },
  {
   "cell_type": "markdown",
   "metadata": {},
   "source": [
    "Yikes! For that 26-person-per-group study, if the population effect size\n",
    "were *d* = .30, we would have only an 18% chance of detecting the\n",
    "effect. Thus, the *same* study can have very good power to detect large\n",
    "effects but terrible power to detect small effects. Thus, the researcher\n",
    "should always decide the smallest effect size of interest and power the\n",
    "study to detect that.\n",
    "\n",
    "Just to play with this some more, let's illustrate how a sample size of\n",
    "26 per group performs across a variety of effect sizes. I will use a\n",
    "loop command to do this."
   ]
  },
  {
   "cell_type": "code",
   "execution_count": null,
   "metadata": {},
   "outputs": [],
   "source": [
    "#create empty container to store  power results\n",
    "power <- NULL\n",
    "\n",
    "#create sequence of d values to test, from .10 to 1.5 in increments of .10\n",
    "d.values <- seq(from=.10, to = 1.5, by=.10)\n",
    "\n",
    "# There are 15 d values, so we will need to run a loop 15 times\n",
    "# For each d value, run the power function and save the power resul\n",
    "for (i in 1:15){\n",
    "  power[i] <-  pwr.t.test(26, d=d.values[i])$power\n",
    "}\n",
    "\n",
    "#bind results together into comuns to make a table\n",
    "cbind(d.values, power)"
   ]
  },
  {
   "cell_type": "markdown",
   "metadata": {},
   "source": [
    "Using that sample size of 26, we see that we have excellent power to\n",
    "detect large effect sizes (Cohen *d* values .80 and above), but we would\n",
    "have very low power (very likely to get a non-significant result) if the\n",
    "effect is small. In such cases, we would likely come back and say \"we\n",
    "did not find a difference\" when really we simply missed what was there.\n",
    "\n",
    "Thus, you must always decide the smallest effect size you want to be\n",
    "able to have good power to detect. This should be based on the\n",
    "importance of the question, resources available, and how big you guess\n",
    "the effect might be. If you are chasing very nuanced things in noisy\n",
    "data, you may need very large samples to get statistical significance.\n",
    "\n",
    "Planning Sample Size\n",
    "====================\n",
    "\n",
    "Sometimes it can be handy to generate a number of power estimates for\n",
    "different effect sizes and sample sizes. I use a loop to do this. In\n",
    "this case, I create two nested loops. The first runs through a sequence\n",
    "of effect sizes. The second runs a loop testing many samples sizes at\n",
    "the current effect size. I assume you are familiar with programming\n",
    "loops to run this code:"
   ]
  },
  {
   "cell_type": "code",
   "execution_count": null,
   "metadata": {},
   "outputs": [],
   "source": [
    "#create empty containers to store  power results, sample size and effect size inputs. \n",
    "power <- NULL\n",
    "size <- NULL\n",
    "pop.d <- NULL\n",
    "i <- 1\n",
    "\n",
    "\n",
    "# run two loops. The first runs through all the d values in the sequence from d=.20 to d=1.5 (increments of .10)\n",
    "# within that, it then tests every possible sample size from 10-200 increments of 5\n",
    "for(d in seq(from=.2, to=1.5, by=.10)){\n",
    "  for(n in seq(from=10, to=200, by=05)){\n",
    "    power[i] <- pwr.t.test(n=n, d=d, alternative=\"two.sided\")$power\n",
    "    size[i] <- n\n",
    "    pop.d[i] <- d\n",
    "    i <- i+1\n",
    "  }\n",
    "}\n",
    "results <- data.frame(power, size, pop.d)"
   ]
  },
  {
   "cell_type": "markdown",
   "metadata": {},
   "source": [
    "Next, we can produce a nice plot of this using `ggplot2`. I assume you\n",
    "are familiar with `ggplot2` to run this code:"
   ]
  },
  {
   "cell_type": "code",
   "execution_count": null,
   "metadata": {},
   "outputs": [],
   "source": [
    "ggplot(data=results, aes(x=size, y=power, color=factor(pop.d), group=pop.d))+\n",
    "  geom_line()+\n",
    "  geom_point()+\n",
    "  geom_hline(color=\"red\", linetype=\"dashed\", size=1, aes(yintercept=.80))+\n",
    "  theme_light()+\n",
    "  scale_x_continuous(name=\"Sample Size (Per Group)\",breaks=seq(10, 200, 10))+\n",
    "  scale_y_continuous(name=\"Power\", breaks=seq(0,1,by=.10))+\n",
    "  scale_color_discrete(name=\"d (Population)\")"
   ]
  },
  {
   "cell_type": "markdown",
   "metadata": {},
   "source": [
    "![](Mod2_Lab4_-_Power1_files/figure-markdown_strict/unnamed-chunk-12-1.png)\n",
    "\n",
    "(A full review of ggplot2 is outside the scope of this tutorial, but I\n",
    "would encourage you to familiarize yourself with it. There are many\n",
    "great web tutorials and books devoted to this fantastic visualization\n",
    "tool.)\n",
    "\n",
    "You can modify the above code for different sample sizes and ranges, but\n",
    "the rest stays the same. You can easily see with the graph that 80%\n",
    "power (red dashed line) would take 180 participants per group for a *d*\n",
    "= .03 but would only take 45 people per group at *d* = .06.\n",
    "\n",
    "Note that the `pwr` package has many different commands, including\n",
    "commands that allow unequal group sizes, tests for correlations, and\n",
    "many others.\n",
    "\n",
    "For example, using `pwr.r.test()` we could make a similar graph for\n",
    "correlations:"
   ]
  },
  {
   "cell_type": "code",
   "execution_count": null,
   "metadata": {},
   "outputs": [],
   "source": [
    "power <- NULL \n",
    "size <- NULL\n",
    "pop.r <- NULL\n",
    "i <- 1\n",
    "\n",
    "for(rho in seq(from=.05, to=.90, by=.05)){\n",
    "  for(n in seq(from=10, to=200, by=05)){\n",
    "    power[i] <- pwr.r.test(n=n, r=rho, alternative=\"two.sided\")$power\n",
    "    size[i] <- n\n",
    "    pop.r[i] <- rho\n",
    "    i <- i+1\n",
    "  }\n",
    "}\n",
    "dat <- data.frame(power, size, pop.r)\n",
    "\n",
    "ggplot(data=dat, aes(x=size, y=power, color=factor(pop.r), group=pop.r))+\n",
    "  geom_line()+\n",
    "  geom_point()+\n",
    "  geom_hline(color=\"red\", linetype=\"dashed\", size=1, aes(yintercept=.80))+\n",
    "  theme_light()+\n",
    "  scale_x_continuous(name=\"Sample Size\",breaks=seq(10, 200, 10))+\n",
    "  scale_y_continuous(name=\"Power\", breaks=seq(0,1,by=.10))+\n",
    "  scale_color_discrete(name=\"Correlation\")"
   ]
  },
  {
   "cell_type": "markdown",
   "metadata": {},
   "source": [
    "![](Mod2_Lab4_-_Power1_files/figure-markdown_strict/unnamed-chunk-13-1.png)\n",
    "\n",
    "Data Already Collected. What Now?\n",
    "=================================\n",
    "\n",
    "Often a study is already collected, yet power may be unclear. What can\n",
    "be done?\n",
    "\n",
    "In this case, the appropriate tool is a \"sensitivity analysis\" in which\n",
    "you enter the desired power (80%) and the sample size achieved. The\n",
    "analysis will tell you your smallest effect size of interest.\n",
    "\n",
    "Imagine a study was conducted comparing two groups,\n",
    "*n*<sub>1</sub> = 320 and *n*<sub>2</sub> = 185. Fortunately,\n",
    "`pwr.t2n.test()` can handle different samples sizes. This study was\n",
    "already run, but we can enter two of the 3 power criteria (sample size,\n",
    "power) and the third (effect size) can be determined for you."
   ]
  },
  {
   "cell_type": "code",
   "execution_count": null,
   "metadata": {},
   "outputs": [],
   "source": [
    "pwr.t2n.test(n1=320, n2=185, power=.80)"
   ]
  },
  {
   "cell_type": "markdown",
   "metadata": {},
   "source": [
    "This tells us that with our sample sizes and a desire for 80% power, we\n",
    "can detect effects as small as *d* = .26. From our Cohen's *d* table,\n",
    "this is considered a lower-end small effect. As long as the population\n",
    "effects are that large (or larger), we should have adequate power.\n",
    "However, I would be cautious about interpreting results smaller than\n",
    "that from this sample.\n",
    "\n",
    "Sensitivity Analysis for Correlation\n",
    "====================================\n",
    "\n",
    "For another example, say your organization wants to make the case that a\n",
    "measure of customer sentiment is associated with the number of items\n",
    "purchased by customers. There is a correlation reported in a sample of\n",
    "50 responses. What is the power?\n",
    "\n",
    "We can use `pwr.r.test()` for this purpose:"
   ]
  },
  {
   "cell_type": "code",
   "execution_count": null,
   "metadata": {},
   "outputs": [],
   "source": [
    "pwr.r.test(n=50, power=.80)"
   ]
  },
  {
   "cell_type": "markdown",
   "metadata": {},
   "source": [
    "We have the ability to detect population correlations of .38 and larger.\n",
    "If we think effects might reasonably be smaller than that, then this set\n",
    "of data is of questionable value.\n",
    "\n",
    "One Final Word of Caution\n",
    "=========================\n",
    "\n",
    "Some people have brushed aside the issue of poor power, especially when\n",
    "a result is significant. After all, if a result is significant, it *had*\n",
    "power to reject the null, right?\n",
    "\n",
    "Wrong. Beware significant findings from under-powered studies.\n",
    "\n",
    "Consider a study that has very low power. In such a case, the researcher\n",
    "has almost *no* ability to find true effects.\n",
    "\n",
    "However, false positives *still happen* 5% of the time (when the null is\n",
    "true).\n",
    "\n",
    "Thus, as power gets lower, the number of \"true\" positives (real effects,\n",
    "discovered) goes down, while the number of false positives stays fixed.\n",
    "When power is low, false positives can equal or even outnumber true\n",
    "positives. In such cases, when an effect is significant, it is very\n",
    "challenging to know whether the effect is a true positive or a false\n",
    "positive. We will explore this issue in a future lesson, but take this\n",
    "as a word of caution about under-powered studies."
   ]
  }
 ],
 "metadata": {
  "kernelspec": {
   "display_name": "R",
   "language": "R",
   "name": "ir"
  },
  "language_info": {
   "codemirror_mode": "r",
   "file_extension": ".r",
   "mimetype": "text/x-r-source",
   "name": "R",
   "pygments_lexer": "r",
   "version": "3.5.0"
  }
 },
 "nbformat": 4,
 "nbformat_minor": 2
}
