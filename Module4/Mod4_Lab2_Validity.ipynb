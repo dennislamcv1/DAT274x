{
 "cells": [
  {
   "cell_type": "markdown",
   "metadata": {},
   "source": [
    "Module 4, Lab 2 - Validity\n",
    "==========================\n",
    "\n",
    "In this lab, we build on the previous lab to validate our measure of\n",
    "consumer sentiment. In the previous lab, we found that we could make a\n",
    "reliable, one-factor measure that we think represents consumer\n",
    "sentiment. However, we did not show that the measure was actually\n",
    "measuring sentiment. In this lab, we discuss the concept of measurement\n",
    "validity--ensuring that the measure actually captures what it claims to.\n",
    "\n",
    "There is no sure-fire way to ensure that a measure is valid. However,\n",
    "there are some things we can consider.\n",
    "\n",
    "1.  Face validity: does the measure look valid, at face level? This is\n",
    "    subjective, but it is important. For example, in the previous lab,\n",
    "    we captured people's feelings about a taco brand with reported\n",
    "    rating on four adjectives: \"inviting,\" \"friendly,\" \"awesome,\" and\n",
    "    \"pleasant.\" We asked people to rate how well each adjective\n",
    "    describes the brand on a 1-10 scale. We can think through whether\n",
    "    these seem like they would be capturing sentiment. Clearly, a person\n",
    "    who rates a brand highly on \"awesome\" feels positive toward the\n",
    "    brand, right? Well, we can think through this a bit more. What other\n",
    "    reasons might a person respond positively on that question? Might\n",
    "    they just be an enthusiastic person? Perhaps someone who wants to\n",
    "    make a good impression or feels social pressure from the survey to\n",
    "    give a positive response? Next, we might consider whether those\n",
    "    issues would be shared among all the adjectives. Indeed, it seems\n",
    "    possible. There are still some other issues we might consider. For\n",
    "    example, do people really know and have the ability to report their\n",
    "    attitudes and feelings toward a brand accurately? Might something\n",
    "    else such as an analysis of their natural language be better? In\n",
    "    short, this measure *looks* face valid, but can also conceive of\n",
    "    some potential threats to its validity. We then would have to ask\n",
    "    whether those issues are big enough to warrant not using it.\n",
    "\n",
    "2.  Content validity: does the measure have the appropriate breadth?\n",
    "    With this set of adjectives, we might consider other words that\n",
    "    should be included, or we might consider removing some that don't\n",
    "    belong. This is also subjective. Indeed, in the last lab we were\n",
    "    considering discarding \"quirky\" before the data analysis came in.\n",
    "\n",
    "3.  Criterion validity: does the variable correlate in ways that a good\n",
    "    measure should? This is the \"data-driven\" option, but it is not\n",
    "    without issues as well. For example, it presumes that you have\n",
    "    picked a good set of outcomes to correlate it with and that those\n",
    "    are also measured validly. Still, assuming you are collecting data,\n",
    "    it doesn't hurt to collect a little bit more or to check this in the\n",
    "    data that you have collected.\n",
    "\n",
    "In this lab, I briefly demonstrate **criteiron validity** by checking\n",
    "correlations among measures.\n",
    "\n",
    "Load Data\n",
    "=========\n",
    "\n",
    "In this lab, I use a slightly different measure of sentiment but a\n",
    "similar research design. A research team has a new sentiment measure,\n",
    "and they wish to know if it is criterion valid. To validate it, they\n",
    "have assembled data on the number of positive words used to describe a\n",
    "product (word count, or `WC`), the rating of a product using a standard\n",
    "rating system (`rating`), and the anticipated likelihood of purchase\n",
    "(`purchase`). The data are in the github folder for this lab:"
   ]
  },
  {
   "cell_type": "code",
   "execution_count": null,
   "metadata": {},
   "outputs": [],
   "source": [
    "#### LOAD DATA ####\n",
    "dat <- read.csv(\"datasets/validity.csv\")"
   ]
  },
  {
   "cell_type": "markdown",
   "metadata": {},
   "source": [
    "We can briefly check the data. Notice there is an id variable called `X`\n",
    "as well."
   ]
  },
  {
   "cell_type": "code",
   "execution_count": null,
   "metadata": {},
   "outputs": [],
   "source": [
    "str(dat)\n",
    "\n",
    "head(dat)"
   ]
  },
  {
   "cell_type": "markdown",
   "metadata": {},
   "source": [
    "Is the sentiment measure criterion valid? We can test this by simply\n",
    "assessing correlations."
   ]
  },
  {
   "cell_type": "code",
   "execution_count": null,
   "metadata": {},
   "outputs": [],
   "source": [
    "#drop the ID variable\n",
    "dat <- dat[,-1]\n",
    "\n",
    "#correlations\n",
    "round(cor(dat), 2)"
   ]
  },
  {
   "cell_type": "markdown",
   "metadata": {},
   "source": [
    "We see here that the sentiment variable correlates at .30 with word\n",
    "count, .69 with a product rating, and .55 with purchase likelihood. We\n",
    "also see that those correlations are larger than they are between the\n",
    "other measures (e.g., the `rating` variable is not correlating more\n",
    "strongly with the other variables).\n",
    "\n",
    "We can also use `corr.test()` in the `psych` package for *p*-values."
   ]
  },
  {
   "cell_type": "code",
   "execution_count": null,
   "metadata": {},
   "outputs": [],
   "source": [
    "round( psych::corr.test(dat)$p, 3)"
   ]
  },
  {
   "cell_type": "markdown",
   "metadata": {},
   "source": [
    "The bottom triangle (below the diagonal) represents uncorrected\n",
    "p-values. We see that everything for sentiment is &lt; .05 (coming up at\n",
    "zero).\n",
    "\n",
    "Although this is a short exercise, it is critically important. Not only\n",
    "can you quickly see if a measure is valid, but you might also find a\n",
    "better measure. For example, if the product rating was correlating with\n",
    "purchase likelihood *better* than the sentiment measure, I would\n",
    "question the use of the sentiment measure for making decisions."
   ]
  }
 ],
 "metadata": {
  "kernelspec": {
   "display_name": "R",
   "language": "R",
   "name": "ir"
  },
  "language_info": {
   "codemirror_mode": "r",
   "file_extension": ".r",
   "mimetype": "text/x-r-source",
   "name": "R",
   "pygments_lexer": "r",
   "version": "3.5.0"
  }
 },
 "nbformat": 4,
 "nbformat_minor": 2
}
