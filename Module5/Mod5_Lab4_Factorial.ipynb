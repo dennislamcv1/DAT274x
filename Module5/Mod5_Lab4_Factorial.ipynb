{
 "cells": [
  {
   "cell_type": "markdown",
   "metadata": {},
   "source": [
    "Module 5, Lab 4 - Factorial Designs\n",
    "===================================\n",
    "\n",
    "In this lab, we will explore the factorial experiment. I analyze the\n",
    "data from the previous lab but using a factorial design. I assume you\n",
    "are familiar with the between subjects lab, conducted previously. In\n",
    "this lab, we consider whether the three logos have different effects for\n",
    "males or females, a question which marketing wants to know prior to\n",
    "pushing the ad to different markets.\n",
    "\n",
    "Before we begin, I will re-load the data and packages from the previous\n",
    "lab and score the scale.\n",
    "\n",
    "Note that we will need two new packages for this tutorial as well.\n",
    "Please install the package and the `ez` package, as it contains useful\n",
    "ANOVA features. Please also install the `phia` package, which contains\n",
    "useful tools for dissecting interactions."
   ]
  },
  {
   "cell_type": "code",
   "execution_count": null,
   "metadata": {},
   "outputs": [],
   "source": [
    "#### LOAD PACKAGES ####\n",
    "install.packages('effsize')\n",
    "install.packages('psych')\n",
    "install.packages('ez')\n",
    "install.packages('phia')\n",
    "library(ggplot2)\n",
    "library(effsize)\n",
    "library(psych)\n",
    "library(ez)\n",
    "library(phia)\n",
    "\n",
    "#### LOAD DATA ####\n",
    "dat <- read.csv(\"datasets/logos.csv\", header=T)\n",
    "\n",
    "#### SCORE SENTIMENT SCALE ####\n",
    "dat$sentiment <- rowMeans(\n",
    "  data.frame(dat$friendly, dat$inviting, dat$interesting, dat$positive, dat$pleasant)\n",
    ")\n",
    "\n",
    "#### VIEW DATA #####\n",
    "head(dat)"
   ]
  },
  {
   "cell_type": "markdown",
   "metadata": {},
   "source": [
    "Vizualize the Data + Run Descriptives\n",
    "=====================================\n",
    "\n",
    "In a factorial design, we randomly assign a second treatment in addition\n",
    "to the first. For example, we could also make 50% of the logos in color\n",
    "and 50% in grey scale. Thus we would randomly assign people to one of\n",
    "the designs (3 levels: A, B, and C) and one of the colors (2 levels:\n",
    "color, grey scale). For this reason, this is referred to as a 2 x 3\n",
    "factorial design.\n",
    "\n",
    "One need not randomly assign the variable. One can also use a\n",
    "pre-existing grouping variable, such as sex. One caveat is needed,\n",
    "however; if the grouping variable was not randomly assigned to\n",
    "participants (e.g., favorite color), we cannot be sure if any observed\n",
    "effect is due to that variable or something else that might be causing\n",
    "it. For example, if participants who love the color purple tend to\n",
    "prefer Logo B, we don't know if that logo preference is due to the color\n",
    "or something else that might cause that color preference (see the\n",
    "discussion on prior causes in the regression lab).\n",
    "\n",
    "In our case, we will examine a 2 (sex: male, female) x 3 (logo: A, B, C)\n",
    "design. Although it is true that sex was not randomly assigned by the\n",
    "research team to participants, biological sex is randomly assigned at\n",
    "birth and has no known prior causes. Thus, any differences we see\n",
    "between the sexes can be ultimately assumed to result from sex.\n",
    "\n",
    "We can easily visualize our data using `ggplot2`, assigning the `fill`\n",
    "variable to give different colors to males and females. Remember that we\n",
    "had a missing value on the logo assignment for one participant, so we\n",
    "will tell `ggplot2` to only use rows of `dat` that are not missing on\n",
    "logo (`data=dat[!is.na(dat$logo),]`)"
   ]
  },
  {
   "cell_type": "code",
   "execution_count": null,
   "metadata": {},
   "outputs": [],
   "source": [
    "ggplot(data=dat[!is.na(dat$logo), ], aes(x=logo, y=sentiment, fill=sex))+\n",
    "  geom_boxplot(alpha=.20, color=\"black\")+\n",
    "  geom_jitter(alpha=.5, color=\"black\", fill=\"grey90\", width=.20)+\n",
    "  theme_light()+\n",
    "  scale_y_continuous(name=\"Sentiment\")+\n",
    "  scale_x_discrete(name=\"Logo\")+\n",
    "  scale_fill_discrete(name=\"Sex\")"
   ]
  },
  {
   "cell_type": "markdown",
   "metadata": {},
   "source": [
    "![](Mod5_Lab4_-_Factorial_files/figure-markdown_strict/unnamed-chunk-2-1.png)\n",
    "\n",
    "We do not see any large systematic differences in the overall levels of\n",
    "sentiment for males or females, nor do we see a substantively different\n",
    "pattern of liking across the three logos for males or females. Thus,\n",
    "perhaps sex does not matter much. We can pull the means out more easily\n",
    "with `tapply()`.\n",
    "\n",
    "Recall for `tapply()` accepts four arguments: the first is the variable\n",
    "to analyze, the second is a factor (or list of factors) across which we\n",
    "want to run the analysis, the third is the function we want to use in\n",
    "the analysis, and the rest are arguments to pass along to our function.\n",
    "In this case, we want means of `sentiment` across levels of `logo` and\n",
    "`sex`, with missing values ignored:"
   ]
  },
  {
   "cell_type": "code",
   "execution_count": null,
   "metadata": {},
   "outputs": [],
   "source": [
    "# Means\n",
    "tapply(dat$friendly, list(dat$logo, dat$sex), mean, na.rm=T)\n",
    "\n",
    "# SDs\n",
    "tapply(dat$friendly, list(dat$logo, dat$sex), sd, na.rm=T)"
   ]
  },
  {
   "cell_type": "markdown",
   "metadata": {},
   "source": [
    "Next, we can conduct the factorial ANOVA. In general, the ANOVA assesses\n",
    "whether:\n",
    "\n",
    "1.  There are significant differences between the two sexes (similar to\n",
    "    a one-way ANOVA or t-test)\n",
    "2.  There are significant differences between the three logos (similar\n",
    "    to a one-way ANOVA or t-test)\n",
    "3.  The two variables interact\n",
    "\n",
    "I consider these three questions next.\n",
    "\n",
    "Example with the `ez` package:\n",
    "==============================\n",
    "\n",
    "Factorial ANOVA designs can get tricky. The best way to conduct the\n",
    "analysis for real-world data is to use the `ezANOVA()` command from the\n",
    "`ez` package. This is because you can control the \"type\" of the analysis\n",
    "done. This goes beyond the scope of this tutorial, but most experimental\n",
    "researchers prefer to us \"type 3\" analyses for ANOVA. Note that the\n",
    "`aov()` command we used in the previous lab only works for perfectly\n",
    "balanced factorial designs (equal numbers of people in every permutation\n",
    "of the experiment, no missing data).\n",
    "\n",
    "To use this command, you run the `ezANOVA()` command. We must specify\n",
    "several arguments, including the standard `data=` argument, the `type=3`\n",
    "argument, and a few others.\n",
    "\n",
    "Second, we must list our variables. This is done by setting them inside\n",
    "`.()`. First, we have a variable called `wid=.()` that tracks the ID of\n",
    "each participant. If you don't have an id variable, we can easily give\n",
    "each participant a unique identifier with `1:nrow(dat)`, which creates a\n",
    "unique number for each participant. Next, we list the outcome variable\n",
    "as `dv`, in this case `dv=.(sentiment)`. Finally, we list our\n",
    "between-subjects variables using `between=.(sex, logo)`.\n",
    "\n",
    "> **Note:** Because of the imbalance in the number of cases for the interaction term, a warning message will be generated by exANOVA. "
   ]
  },
  {
   "cell_type": "code",
   "execution_count": null,
   "metadata": {},
   "outputs": [],
   "source": [
    "#generate id variable for each subject as a factor variable\n",
    "dat$idvar <- as.factor(1:nrow(dat))\n",
    "\n",
    "ezANOVA(data=dat, \n",
    "        wid=.(idvar), \n",
    "        dv=.(sentiment), \n",
    "        between=.(sex, logo),\n",
    "        type=3)"
   ]
  },
  {
   "cell_type": "markdown",
   "metadata": {},
   "source": [
    "This produces a lot of output, but generally speaking, it produces the\n",
    "same results you would expect from the `aov()` output. There are three\n",
    "rows, similar to a regression output. One row, for `sex` is not\n",
    "significant. One row, for `logo` is significant. A third row, for\n",
    "`sex:logo` is not significant.\n",
    "\n",
    "This can be interpreted as follows:\n",
    "\n",
    "1.  There is not a significant sex difference overall\n",
    "2.  There are significant differences between the logos\n",
    "3.  There is not a significant \"interaction\" between sex and logo.\n",
    "\n",
    "Interactions can be understand as \"one variable influences the effect of\n",
    "another.\" So, the sex x logo interaction is asking: \"is there a\n",
    "different pattern of differences between the logos for males than for\n",
    "females?\" This is not the same as asking whether males or females have\n",
    "different levels of sentiment. Instead, we are asking whether the effect\n",
    "of `logo` is different at different levels of `sex`.\n",
    "\n",
    "You can also reverse this. This is the same as asking whether the effect\n",
    "of `sex` is different across the three `logos`. An interaction is\n",
    "essentially one variable influencing the effectiveness of another.\n",
    "\n",
    "It's worth remembering that a non-significant effect does *not* mean\n",
    "that there is zero effect. We can easily see the 95% CIs for our\n",
    "\"non-significant\" effects with Tukey's HSD test (below).\n",
    "\n",
    "It turns out you cannot perform Tukey's HST test on an `ezANOVA()`\n",
    "object; however, you can tell `ezANOVA()` to save an `aov` object for\n",
    "use in Tukey's and other tests. To do this, include the\n",
    "`return_aov=TRUE` argument. This will save in our output an `aov` object\n",
    "that we can feed into Tukey's test and other post-hoc comparison tests."
   ]
  },
  {
   "cell_type": "code",
   "execution_count": null,
   "metadata": {},
   "outputs": [],
   "source": [
    "mod <- ezANOVA(data=dat, \n",
    "        wid=.(idvar), \n",
    "        dv=.(sentiment), \n",
    "        between=.(sex, logo),\n",
    "        type=3,\n",
    "        return_aov=TRUE)"
   ]
  },
  {
   "cell_type": "markdown",
   "metadata": {},
   "source": [
    "From here, we can access the `aov` object with `mod$aov`. This can be\n",
    "thrown into Tukey's test:"
   ]
  },
  {
   "cell_type": "code",
   "execution_count": null,
   "metadata": {},
   "outputs": [],
   "source": [
    "mod$aov\n",
    "\n",
    "TukeyHSD(mod$aov)"
   ]
  },
  {
   "cell_type": "markdown",
   "metadata": {},
   "source": [
    "We see here that Tukey's test is returning more output than before, but\n",
    "we will only look at the overall logo analysis, given that nothing else\n",
    "was significant. We can also glance at the other analyses, specifically\n",
    "the confidence intervals (`lwr` and `upr` = the 95% CI). We see on many\n",
    "analyses that the confidence intervals are fairly large, especially\n",
    "toward the bottom third of the results where every individual\n",
    "permutation is compared against every other permutation. This tells us\n",
    "we may simply lack statistical power to find some effects. Power for\n",
    "ANOVA designs goes beyond the scope of this tutorial, but it's safe to\n",
    "say that large samples are desired.\n",
    "\n",
    "What if the interaction *had* been significant? That would simply tell\n",
    "us that at least one comparison (e.g., Logo A vs Logo B) yielded\n",
    "significantly different results across sexes (Male vs. Female). It could\n",
    "have been every logo comparison, two, or just one. To help isolate which\n",
    "parts of the logo pattern differ across males and females, we will use a\n",
    "tool called \"interaction contrasts.\" Simply put, this technique isolates\n",
    "which comparisons differ across sexes, allowing the researcher to\n",
    "isolate where the interaction is happening.\n",
    "\n",
    "To do this, we use the `phia` package (post-hoc interaction analysis).\n",
    "\n",
    "Next, we can use the `testInteractions()` command. We see here that it\n",
    "returns a list of three rows:"
   ]
  },
  {
   "cell_type": "code",
   "execution_count": null,
   "metadata": {},
   "outputs": [],
   "source": [
    "testInteractions(mod$aov)"
   ]
  },
  {
   "cell_type": "markdown",
   "metadata": {},
   "source": [
    "The first row is listed `f-m : Logo A-Logo B`, which means we ask\n",
    "whether the \"Logo A vs. B\" comparison is *different* for males and\n",
    "females. We see that it is not significant (*p* = .38). None of these is\n",
    "significant, which does not surprise as the interaction was not\n",
    "significant to begin with. Truthfully, this just dissects the\n",
    "interaction. If the interaction was not significant to begin with,\n",
    "dissecting it is generally not seen as statistically responsible."
   ]
  }
 ],
 "metadata": {
  "kernelspec": {
   "display_name": "R",
   "language": "R",
   "name": "ir"
  },
  "language_info": {
   "codemirror_mode": "r",
   "file_extension": ".r",
   "mimetype": "text/x-r-source",
   "name": "R",
   "pygments_lexer": "r",
   "version": "3.5.0"
  }
 },
 "nbformat": 4,
 "nbformat_minor": 2
}
